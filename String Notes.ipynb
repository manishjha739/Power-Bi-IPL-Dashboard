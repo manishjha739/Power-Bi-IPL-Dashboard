{
 "cells": [
  {
   "cell_type": "markdown",
   "id": "3c49b20d-8350-4e05-80af-892c87ecb4e2",
   "metadata": {},
   "source": [
    "# String notes"
   ]
  },
  {
   "cell_type": "markdown",
   "id": "fcad38c3-2e7c-4627-9720-0e82b7266ae0",
   "metadata": {},
   "source": [
    "********************************************************************************************************************************************************\n",
    "\n",
    "##### Agenda\n",
    "* Introduction to Strings: Overview, definition\n",
    "* Creating string(single, double and triple quotes)\n",
    "* Accessing strings(Indexing (positive/negative), slicing, and iterating over strings)\n",
    "* Some string specific functions(to manipulate strings)\n",
    "* some common functions which are applicable on strings as well as on tuple and lists also"
   ]
  },
  {
   "cell_type": "markdown",
   "id": "86991c98-47b2-4344-b6f7-5436fe6f20c1",
   "metadata": {},
   "source": [
    "********************************************************************************************************************************************************\n",
    "#### 1. Introduction to Strings: Overview, definition\n",
    "\n",
    "Overview of Strings\n",
    "* Strings are one of the most commonly used data types in programming, especially in Python. They are sequences of characters used to represent text data.\n",
    "* Strings can contain letters, numbers, spaces, and symbols. Examples include \"Hello, World!\", \"12345\", or \"CR7\".\n",
    "* Strings are immutable, meaning once a string is created, its content cannot be changed. Any modification results in the creation of a new string.\n",
    "  \n",
    "#### Definition of Strings\n",
    "* A string in Python is a sequence of characters enclosed in quotes.\n",
    "\n",
    "********************************************************************************************************************************************************"
   ]
  },
  {
   "cell_type": "markdown",
   "id": "45c3246a-05b0-4dfc-b4a7-3bd9b176ff14",
   "metadata": {},
   "source": [
    "#### 2. Creating String"
   ]
  },
  {
   "cell_type": "code",
   "execution_count": 1,
   "id": "c3abc17f-afc4-4a61-9033-021a468fe5bd",
   "metadata": {},
   "outputs": [],
   "source": [
    "# Creating strings"
   ]
  },
  {
   "cell_type": "code",
   "execution_count": null,
   "id": "d5274033-3ebc-46a5-9a23-ef173072dc32",
   "metadata": {},
   "outputs": [],
   "source": []
  },
  {
   "cell_type": "code",
   "execution_count": null,
   "id": "2593e888-3a2b-493b-a07a-2db14d1d096b",
   "metadata": {},
   "outputs": [],
   "source": []
  },
  {
   "cell_type": "markdown",
   "id": "d263b9bc-2536-496e-b19c-a5a1f79475bf",
   "metadata": {},
   "source": [
    "#### 3. Accessing string\n",
    "###### Positive indexing\n",
    "###### EX-1\n",
    "* 'aman'\n",
    "* '0123'\n",
    "\n",
    "###### EX-2\n",
    "* 'Positive in'\n",
    "* '01234567 89'"
   ]
  },
  {
   "cell_type": "markdown",
   "id": "7f0c54d5-e7bf-4f69-b09b-167d184fda6c",
   "metadata": {},
   "source": []
  },
  {
   "cell_type": "code",
   "execution_count": null,
   "id": "147b6b02-8999-498e-8de0-ffae30635664",
   "metadata": {},
   "outputs": [],
   "source": []
  },
  {
   "cell_type": "markdown",
   "id": "c53a67af-5c0c-417c-af9c-b5910d975fbd",
   "metadata": {},
   "source": [
    "##### Negative indexing\n",
    "##### EX-1\n",
    "* 'a   m   a   n'\n",
    "* '-4 -3  -2  -1' "
   ]
  },
  {
   "cell_type": "code",
   "execution_count": null,
   "id": "7d45f4fd-dd64-40b0-ba5c-2b89aebbe954",
   "metadata": {},
   "outputs": [],
   "source": []
  },
  {
   "cell_type": "code",
   "execution_count": null,
   "id": "737d6c5e-3e66-4bc2-a7ba-2fe8fb3f8afe",
   "metadata": {},
   "outputs": [],
   "source": []
  },
  {
   "cell_type": "markdown",
   "id": "354818f0-6b22-4708-a82a-bde6732b664c",
   "metadata": {},
   "source": [
    "##### Slicing\n",
    "* Slicing is a technique that allows us to extract a substring (a part of a string).\n",
    "* Syntax: [start_index : end_index : step]\n",
    "* start_index: The position to start slicing (inclusive). Default is 0.\n",
    "* end_index: The position to stop slicing (exclusive). Default is the length of the string.\n",
    "* step: The interval between characters to include in the slice. Default is 1."
   ]
  },
  {
   "cell_type": "code",
   "execution_count": null,
   "id": "5bd7ceda-7033-49ba-a52a-48332dcf7de5",
   "metadata": {},
   "outputs": [],
   "source": []
  },
  {
   "cell_type": "code",
   "execution_count": null,
   "id": "d69022e5-5e92-4346-aa84-6ddc88a85444",
   "metadata": {},
   "outputs": [],
   "source": []
  },
  {
   "cell_type": "code",
   "execution_count": 2,
   "id": "a9c34992-66b8-4a20-b5bf-8a775b13321f",
   "metadata": {},
   "outputs": [],
   "source": [
    "# Iterable"
   ]
  },
  {
   "cell_type": "code",
   "execution_count": null,
   "id": "44923109-491b-4212-a84d-ba949db39b58",
   "metadata": {},
   "outputs": [],
   "source": []
  },
  {
   "cell_type": "code",
   "execution_count": null,
   "id": "1a282d72-dda7-4fe5-a506-171df3f811a1",
   "metadata": {},
   "outputs": [],
   "source": []
  },
  {
   "cell_type": "markdown",
   "id": "fa18230d-3c71-4b7e-9488-a59462dfc07d",
   "metadata": {},
   "source": [
    "#### 4. Some string specific functions(to manipulate strings)\n",
    "\n",
    "* upper()                                \n",
    "* lower()\n",
    "* capitalize()\n",
    "* title()\n",
    "* swapcase()\n",
    "* split(separator)\n",
    "* join(iterable)\n",
    "* replace(old, new)\n",
    "* startswith(prefix)\n",
    "* endswith(suffix)\n",
    "* isalpha()\n",
    "* isdigit()\n",
    "* isalnum()\n",
    "* strip()\n",
    "* lstrip()\n",
    "* rstrip()"
   ]
  },
  {
   "cell_type": "code",
   "execution_count": null,
   "id": "4be038ef-b104-44d3-8ae0-bcb4414c1a00",
   "metadata": {},
   "outputs": [],
   "source": []
  },
  {
   "cell_type": "code",
   "execution_count": null,
   "id": "736fae94-3858-442d-9874-80b17d772416",
   "metadata": {},
   "outputs": [],
   "source": []
  },
  {
   "cell_type": "markdown",
   "id": "b329d764-e1b3-40c4-b42a-0b08aedc0867",
   "metadata": {},
   "source": [
    "#### 5. some common functions which are applicable on strings as well as on tuple and lists also\n",
    "* len() – Returns the number of elements/characters.\n",
    "* min() – Returns the smallest element (alphabetically for strings).\n",
    "* max() – Returns the largest element (alphabetically for strings).\n",
    "* sorted() – Returns a sorted version of the elements.\n",
    "* count(value) – Counts occurrences of a specific element/character.\n",
    "* index(value) – Returns the index of the first occurrence of an element/character."
   ]
  },
  {
   "cell_type": "code",
   "execution_count": null,
   "id": "b872c607-bd61-4e9b-be21-d26a9dea4278",
   "metadata": {},
   "outputs": [],
   "source": []
  },
  {
   "cell_type": "code",
   "execution_count": null,
   "id": "90cd1762-6cb2-4340-ba04-f1bcdc598725",
   "metadata": {},
   "outputs": [],
   "source": []
  },
  {
   "cell_type": "code",
   "execution_count": null,
   "id": "ff2735c2-3bbe-4cd9-a9ba-b27b9b9ad4b4",
   "metadata": {},
   "outputs": [],
   "source": []
  }
 ],
 "metadata": {
  "kernelspec": {
   "display_name": "Python 3 (ipykernel)",
   "language": "python",
   "name": "python3"
  },
  "language_info": {
   "codemirror_mode": {
    "name": "ipython",
    "version": 3
   },
   "file_extension": ".py",
   "mimetype": "text/x-python",
   "name": "python",
   "nbconvert_exporter": "python",
   "pygments_lexer": "ipython3",
   "version": "3.12.4"
  }
 },
 "nbformat": 4,
 "nbformat_minor": 5
}
